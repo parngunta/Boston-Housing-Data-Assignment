{
 "cells": [
  {
   "cell_type": "markdown",
   "metadata": {},
   "source": [
    "<p style=\"text-align:center\">\n",
    "    <a href=\"https://skills.network/?utm_medium=Exinfluencer&utm_source=Exinfluencer&utm_content=000026UJ&utm_term=10006555&utm_id=NA-SkillsNetwork-Channel-SkillsNetworkCoursesIBMDeveloperSkillsNetworkST0151ENSkillsNetwork20531532-2022-01-01\" target=\"_blank\">\n",
    "    <img src=\"https://cf-courses-data.s3.us.cloud-object-storage.appdomain.cloud/assets/logos/SN_web_lightmode.png\" width=\"200\" alt=\"Skills Network Logo\"  />\n",
    "    </a>\n",
    "</p>\n",
    "\n"
   ]
  },
  {
   "cell_type": "markdown",
   "metadata": {},
   "source": [
    "#### Import the required libraries we need for the lab.\n"
   ]
  },
  {
   "cell_type": "code",
   "execution_count": null,
   "metadata": {},
   "outputs": [],
   "source": [
    "import piplite\n",
    "await piplite.install(['numpy'],['pandas'])\n",
    "await piplite.install(['seaborn'])"
   ]
  },
  {
   "cell_type": "code",
   "execution_count": null,
   "metadata": {},
   "outputs": [],
   "source": [
    "import pandas as pd\n",
    "import pandas as pd\n",
    "import seaborn as sns\n",
    "import matplotlib.pyplot as pyplot\n",
    "import scipy.stats\n",
    "import statsmodels.api as sm\n",
    "from statsmodels.formula.api import ols"
   ]
  },
  {
   "cell_type": "code",
   "execution_count": null,
   "metadata": {},
   "outputs": [],
   "source": [
    "print(\"test\")"
   ]
  },
  {
   "cell_type": "markdown",
   "metadata": {},
   "source": [
    "#### Read the dataset in the csv file from the URL\n"
   ]
  },
  {
   "cell_type": "code",
   "execution_count": null,
   "metadata": {},
   "outputs": [],
   "source": [
    "from js import fetch\n",
    "import io\n",
    "\n",
    "URL = 'https://cf-courses-data.s3.us.cloud-object-storage.appdomain.cloud/IBMDeveloperSkillsNetwork-ST0151EN-SkillsNetwork/labs/boston_housing.csv'\n",
    "resp = await fetch(URL)\n",
    "boston_url = io.BytesIO((await resp.arrayBuffer()).to_py())"
   ]
  },
  {
   "cell_type": "code",
   "execution_count": null,
   "metadata": {},
   "outputs": [],
   "source": [
    "boston_df=pd.read_csv(boston_url)"
   ]
  },
  {
   "cell_type": "markdown",
   "metadata": {},
   "source": [
    "#### Add your code below following the instructions given in the course to complete the peer graded assignment\n"
   ]
  },
  {
   "cell_type": "markdown",
   "metadata": {},
   "source": [
    "#### Task 1: Become familiar with the dataset"
   ]
  },
  {
   "cell_type": "code",
   "execution_count": null,
   "metadata": {},
   "outputs": [],
   "source": [
    "# Display the first few rows of the dataset\n",
    "print(\"First few rows of the dataset:\")\n",
    "print(boston_df.head())\n",
    "\n",
    "# Display basic information about the dataset\n",
    "print(\"\\nBasic information about the dataset:\")\n",
    "print(boston_df.info())\n",
    "\n",
    "# Summary statistics of numerical columns\n",
    "print(\"\\nSummary statistics of numerical columns:\")\n",
    "print(boston_df.describe())\n",
    "\n",
    "# Check for missing values\n",
    "print(\"\\nNumber of missing values in each column:\")\n",
    "print(boston_df.isnull().sum())"
   ]
  },
  {
   "cell_type": "markdown",
   "metadata": {},
   "source": [
    "#### Task 2: Generate Descriptive Statistics and Visualizations"
   ]
  },
  {
   "cell_type": "code",
   "execution_count": null,
   "metadata": {},
   "outputs": [],
   "source": [
    "# Task 2\n",
    "# For the \"Median value of owner-occupied homes\" provide a boxplot\n",
    "# Provide a  bar plot for the Charles river variable\n",
    "# Provide a boxplot for the MEDV variable vs the AGE variable. (Discretize the age variable into three groups of 35 years and younger, between 35 and 70 years and 70 years and older)\n",
    "# Provide a scatter plot to show the relationship between Nitric oxide concentrations and the proportion of non-retail business acres per town. What can you say about the relationship?\n",
    "# Create a histogram for the pupil to teacher ratio variable"
   ]
  },
  {
   "cell_type": "markdown",
   "metadata": {},
   "source": [
    "#### Question 2.1: For the \"Median value of owner-occupied homes\" provide a boxplot"
   ]
  },
  {
   "cell_type": "code",
   "execution_count": null,
   "metadata": {},
   "outputs": [],
   "source": [
    "import matplotlib.pyplot as plt\n",
    "\n",
    "# Create a boxplot for the \"Median value of owner-occupied homes\" column\n",
    "plt.figure(figsize=(8, 6))\n",
    "plt.boxplot(boston_df['MEDV'])\n",
    "plt.title('Boxplot of Median value of owner-occupied homes')\n",
    "plt.ylabel('Median value ($)')\n",
    "plt.show()"
   ]
  },
  {
   "cell_type": "code",
   "execution_count": null,
   "metadata": {},
   "outputs": [],
   "source": [
    "boston_df['MEDV'].median()"
   ]
  },
  {
   "cell_type": "markdown",
   "metadata": {},
   "source": [
    "##### Explanation: This boxplot displays the distribution of median values of owner-occupied homes. The median is at around 21."
   ]
  },
  {
   "cell_type": "markdown",
   "metadata": {},
   "source": [
    "#### Question 2.2: Provide a  bar plot for the Charles river variable"
   ]
  },
  {
   "cell_type": "code",
   "execution_count": null,
   "metadata": {},
   "outputs": [],
   "source": [
    "# Count the frequency of each unique value in the \"Charles river\" column\n",
    "charles_river_counts = boston_df['CHAS'].value_counts()\n",
    "# Create a bar plot\n",
    "plt.figure(figsize=(8, 6))\n",
    "charles_river_counts.plot(kind='bar', color='skyblue')\n",
    "plt.title('Frequency of Charles River')\n",
    "plt.xlabel('Charles River (1 = tract bounds river, 0 = otherwise)')\n",
    "plt.ylabel('Frequency')\n",
    "plt.xticks(rotation=0)  # Rotate x-axis labels if needed\n",
    "plt.show()"
   ]
  },
  {
   "cell_type": "markdown",
   "metadata": {},
   "source": [
    "##### Explanation: This bar plot shows the frequency of houses bounded and not bounded by the Charles river."
   ]
  },
  {
   "cell_type": "markdown",
   "metadata": {},
   "source": [
    "#### Question 2.3: Provide a boxplot for the MEDV variable vs the AGE variable. (Discretize the age variable into three groups of 35 years and younger, between 35 and 70 years and 70 years and older)"
   ]
  },
  {
   "cell_type": "code",
   "execution_count": null,
   "metadata": {},
   "outputs": [],
   "source": [
    "# Discretize the \"AGE\" variable into three groups\n",
    "boston_df['AGE_group'] = pd.cut(boston_df['AGE'], bins=[0, 35, 70, float('inf')], labels=['35 years and younger', 'between 35 and 70 years', '70 years and older'])\n",
    "\n",
    "# Create a boxplot for \"MEDV\" vs \"AGE_group\"\n",
    "plt.figure(figsize=(10, 6))\n",
    "boston_df.boxplot(column='MEDV', by='AGE_group', grid=False)\n",
    "plt.title('Boxplot of MEDV vs AGE_group')\n",
    "plt.xlabel('AGE_group')\n",
    "plt.ylabel('MEDV')\n",
    "plt.xticks(rotation=45)  # Rotate x-axis labels for better readability\n",
    "plt.show()"
   ]
  },
  {
   "cell_type": "markdown",
   "metadata": {},
   "source": [
    "##### Explanation: This boxplot displays the distribution of median values of owner-occupied homes (MEDV) across three age groups."
   ]
  },
  {
   "cell_type": "markdown",
   "metadata": {},
   "source": [
    "#### Question 2.4: Provide a scatter plot to show the relationship between Nitric oxide concentrations and the proportion of non-retail business acres per town. What can you say about the relationship?"
   ]
  },
  {
   "cell_type": "code",
   "execution_count": null,
   "metadata": {},
   "outputs": [],
   "source": [
    "# Create a scatter plot\n",
    "plt.figure(figsize=(10, 6))\n",
    "plt.scatter(boston_df['NOX'], boston_df['INDUS'], color='blue', alpha=0.5)\n",
    "plt.title('Relationship between NOX and INDUS')\n",
    "plt.xlabel('Nitric oxide concentrations (NOX)')\n",
    "plt.ylabel('Proportion of non-retail business acres per town (INDUS)')\n",
    "plt.grid(True)\n",
    "plt.show()"
   ]
  },
  {
   "cell_type": "markdown",
   "metadata": {},
   "source": [
    "##### Explanation: This scatter plot shows the relationship between Nitric oxide concentrations and the proportion of non-retail business acres per town. It shows a positive correlation when the value is less than 0.6. Then, the INDUS remains at around 18 although the NOX is increasing."
   ]
  },
  {
   "cell_type": "markdown",
   "metadata": {},
   "source": [
    "#### Question 2.5: Create a histogram for the pupil to teacher ratio variable"
   ]
  },
  {
   "cell_type": "code",
   "execution_count": null,
   "metadata": {},
   "outputs": [],
   "source": [
    "# Create a histogram for the \"pupil to teacher ratio\" variable\n",
    "plt.figure(figsize=(10, 6))\n",
    "plt.hist(boston_df['PTRATIO'], bins=20, color='skyblue', edgecolor='black')\n",
    "plt.title('Histogram of Pupil to Teacher Ratio')\n",
    "plt.xlabel('Pupil to Teacher Ratio')\n",
    "plt.ylabel('Frequency')\n",
    "plt.grid(True)\n",
    "plt.show()"
   ]
  },
  {
   "cell_type": "markdown",
   "metadata": {},
   "source": [
    "##### Explanation: This histogram displays the distribution of pupil to teacher ratio. It shows the frequency of different pupil to teacher ratio values. The maximum frequency seem to occur for the pupil to teacher ratio in the bin of 20."
   ]
  },
  {
   "cell_type": "markdown",
   "metadata": {},
   "source": [
    "#### Task 3"
   ]
  },
  {
   "cell_type": "code",
   "execution_count": null,
   "metadata": {},
   "outputs": [],
   "source": [
    "# Task 3\n",
    "# Is there a significant difference in median value of houses bounded by the Charles river or not? (T-test for independent samples)\n",
    "# Is there a difference in Median values of houses (MEDV) for each proportion of owner occupied units built prior to 1940 (AGE)? (ANOVA)\n",
    "# Can we conclude that there is no relationship between Nitric oxide concentrations and proportion of non-retail business acres per town? (Pearson Correlation)\n",
    "# What is the impact of an additional weighted distance  to the five Boston employment centres on the median value of owner occupied homes? (Regression analysis)"
   ]
  },
  {
   "cell_type": "markdown",
   "metadata": {},
   "source": [
    "#### Question 3.1: Is there a significant difference in median value of houses bounded by the Charles river or not? (T-test for independent samples)"
   ]
  },
  {
   "cell_type": "code",
   "execution_count": null,
   "metadata": {},
   "outputs": [],
   "source": [
    "from scipy.stats import ttest_ind\n",
    "\n",
    "print(\"Hypothesis:\")\n",
    "print(\"Null Hypothesis (H0): There is no significant difference in median values of houses bounded by the Charles river and those not bounded by the Charles river.\")\n",
    "print(\"Alternative Hypothesis (Ha): There is a significant difference in median values of houses bounded by the Charles river and those not bounded by the Charles river.\")\n",
    "print(\"\")\n",
    "\n",
    "# Perform t-test\n",
    "t_statistic, p_value = ttest_ind(boston_df[boston_df['CHAS'] == 1]['MEDV'], boston_df[boston_df['CHAS'] == 0]['MEDV'])\n",
    "print(\"Test Statistics:\")\n",
    "print(\"t_statistic: {0}, P-Value: {1}\".format(t_statistic, p_value))\n",
    "print(f\"{p_value=}\")\n",
    "print(\"\")\n",
    "\n",
    "# Conclusion:\n",
    "print(\"Conclusion:\")\n",
    "if p_value < 0.05:\n",
    "    print(\"p_value < 0.05\")\n",
    "    print(\"Reject the null hypothesis. There is a significant difference in median values of houses bounded by the Charles river and those not bounded by the Charles river.\")\n",
    "else:\n",
    "    print(\"p_value >= 0.05\")\n",
    "    print(\"Fail to reject the null hypothesis. There is no significant difference in median values of houses bounded by the Charles river and those not bounded by the Charles river.\")\n"
   ]
  },
  {
   "cell_type": "markdown",
   "metadata": {},
   "source": [
    "#### Question 3.2: Is there a difference in Median values of houses (MEDV) for each proportion of owner occupied units built prior to 1940 (AGE)? (ANOVA)"
   ]
  },
  {
   "cell_type": "code",
   "execution_count": null,
   "metadata": {},
   "outputs": [],
   "source": [
    "from scipy.stats import f_oneway\n",
    "\n",
    "print(\"Hypothesis:\")\n",
    "print(\"Null Hypothesis (H0): There is no significant difference in median values of houses for each proportion of owner occupied units built prior to 1940 (AGE).\")\n",
    "print(\"Alternative Hypothesis (Ha): There is a significant difference in median values of houses for each proportion of owner occupied units built prior to 1940 (AGE).\")\n",
    "print(\"\")\n",
    "\n",
    "# Perform ANOVA\n",
    "f_statistic, p_value = f_oneway(boston_df[boston_df['AGE'] <= 35]['MEDV'],\n",
    "                                 boston_df[(boston_df['AGE'] > 35) & (boston_df['AGE'] <= 70)]['MEDV'],\n",
    "                                 boston_df[boston_df['AGE'] > 70]['MEDV'])\n",
    "print(\"Test Statistics:\")\n",
    "print(\"f_statistic: {0}, P-Value: {1}\".format(f_statistic, p_value))\n",
    "print(f\"{p_value=}\")\n",
    "print(\"\")\n",
    "\n",
    "# Conclusion:\n",
    "print(\"Conclusion:\")\n",
    "if p_value < 0.05:\n",
    "    print(\"p_value < 0.05\")\n",
    "    print(\"Reject the null hypothesis. There is a significant difference in median values of houses for each proportion of owner occupied units built prior to 1940 (AGE).\")\n",
    "else:\n",
    "    print(\"p_value >= 0.05\")\n",
    "    print(\"Fail to reject the null hypothesis. There is no significant difference in median values of houses for each proportion of owner occupied units built prior to 1940 (AGE).\")\n"
   ]
  },
  {
   "cell_type": "markdown",
   "metadata": {},
   "source": [
    "#### Question 3.3: Can we conclude that there is no relationship between Nitric oxide concentrations and proportion of non-retail business acres per town? (Pearson Correlation)"
   ]
  },
  {
   "cell_type": "code",
   "execution_count": null,
   "metadata": {},
   "outputs": [],
   "source": [
    "from scipy.stats import pearsonr\n",
    "\n",
    "print(\"Hypothesis:\")\n",
    "print(\"Null Hypothesis (H0): There is no relationship between Nitric oxide concentrations and proportion of non-retail business acres per town.\")\n",
    "print(\"Alternative Hypothesis (Ha): There is a relationship between Nitric oxide concentrations and proportion of non-retail business acres per town.\")\n",
    "print(\"\")\n",
    "\n",
    "# Perform Pearson correlation\n",
    "corr_coef, p_value = pearsonr(boston_df['NOX'], boston_df['INDUS'])\n",
    "print(\"Test Statistics:\")\n",
    "print(\"corr_coef: {0}, P-Value: {1}\".format(corr_coef, p_value))\n",
    "print(f\"{p_value=}\")\n",
    "print(\"\")\n",
    "\n",
    "# Conclusion:\n",
    "print(\"Conclusion:\")\n",
    "if p_value < 0.05:\n",
    "    print(\"p_value < 0.05\")\n",
    "    print(\"Reject the null hypothesis. There is a relationship between Nitric oxide concentrations and proportion of non-retail business acres per town.\")\n",
    "else:\n",
    "    rint(\"p_value >= 0.05\")\n",
    "    print(\"Fail to reject the null hypothesis. There is no relationship between Nitric oxide concentrations and proportion of non-retail business acres per town.\")\n"
   ]
  },
  {
   "cell_type": "markdown",
   "metadata": {},
   "source": [
    "#### Question 3.4: What is the impact of an additional weighted distance  to the five Boston employment centres on the median value of owner occupied homes? (Regression analysis)"
   ]
  },
  {
   "cell_type": "code",
   "execution_count": null,
   "metadata": {},
   "outputs": [],
   "source": [
    "import statsmodels.api as sm\n",
    "\n",
    "print(\"Hypothesis:\")\n",
    "print(\"Null Hypothesis (H0): There is no significant impact of an additional weighted distance to the five Boston employment centres on the median value of owner occupied homes.\")\n",
    "print(\"Alternative Hypothesis (Ha): There is a significant impact of an additional weighted distance to the five Boston employment centres on the median value of owner occupied homes.\")\n",
    "print(\"\")\n",
    "\n",
    "# Fit the regression model\n",
    "X = boston_df['DIS']\n",
    "X = sm.add_constant(X)\n",
    "y = boston_df['MEDV']\n",
    "model = sm.OLS(y, X).fit()\n",
    "\n",
    "# Print out the statistics\n",
    "print(\"Test Statistics:\")\n",
    "print(model.summary())\n",
    "print(\"\")\n",
    "\n",
    "# Conclusion:\n",
    "print(\"Conclusion:\")\n",
    "if model.pvalues['DIS'] < 0.05:\n",
    "    print(\"p_value < 0.05\")\n",
    "    print(\"Reject the null hypothesis. There is a significant impact of an additional weighted distance to the five Boston employment centres on the median value of owner occupied homes.\")\n",
    "else:\n",
    "    print(\"p_value >= 0.05\")\n",
    "    print(\"Fail to reject the null hypothesis. There is no significant impact of an additional weighted distance to the five Boston employment centres on the median value of owner occupied homes.\")\n"
   ]
  },
  {
   "cell_type": "code",
   "execution_count": null,
   "metadata": {},
   "outputs": [],
   "source": [
    "# Create the regression plot\n",
    "sns.regplot(x=boston_df['DIS'], y=boston_df['MEDV'])\n",
    "plt.xlabel('Weighted Distance to Employment Centers')\n",
    "plt.ylabel('Median value of owner-occupied homes')\n",
    "plt.title('Regression Plot of DIS vs MEDV')\n",
    "plt.show()"
   ]
  },
  {
   "cell_type": "code",
   "execution_count": null,
   "metadata": {},
   "outputs": [],
   "source": []
  }
 ],
 "metadata": {
  "language_info": {
   "name": "python"
  }
 },
 "nbformat": 4,
 "nbformat_minor": 4
}
